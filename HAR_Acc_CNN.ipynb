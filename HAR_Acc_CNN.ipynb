{
  "nbformat": 4,
  "nbformat_minor": 0,
  "metadata": {
    "colab": {
      "name": "HAR-Acc-CNN.ipynb",
      "provenance": [],
      "collapsed_sections": [],
      "include_colab_link": true
    },
    "kernelspec": {
      "name": "python3",
      "display_name": "Python 3"
    },
    "accelerator": "GPU"
  },
  "cells": [
    {
      "cell_type": "markdown",
      "metadata": {
        "id": "view-in-github",
        "colab_type": "text"
      },
      "source": [
        "<a href=\"https://colab.research.google.com/github/suhailnajeeb/human-activity-recognition/blob/master/HAR_Acc_CNN.ipynb\" target=\"_parent\"><img src=\"https://colab.research.google.com/assets/colab-badge.svg\" alt=\"Open In Colab\"/></a>"
      ]
    },
    {
      "cell_type": "code",
      "metadata": {
        "id": "AN56NZ4OcDlt",
        "colab_type": "code",
        "colab": {}
      },
      "source": [
        "!git clone \"https://github.com/laxmimerit/Human-Activity-Recognition-Using-Accelerometer-Data-and-CNN\""
      ],
      "execution_count": 0,
      "outputs": []
    },
    {
      "cell_type": "code",
      "metadata": {
        "id": "2voDvSBQd-Vl",
        "colab_type": "code",
        "colab": {}
      },
      "source": [
        "import os\n",
        "p = os.listdir()"
      ],
      "execution_count": 0,
      "outputs": []
    },
    {
      "cell_type": "code",
      "metadata": {
        "id": "v0DAjx4Jwt-b",
        "colab_type": "code",
        "colab": {}
      },
      "source": [
        "p"
      ],
      "execution_count": 0,
      "outputs": []
    },
    {
      "cell_type": "code",
      "metadata": {
        "id": "NU5GLEUeeOoI",
        "colab_type": "code",
        "colab": {}
      },
      "source": [
        "path = p[1]"
      ],
      "execution_count": 0,
      "outputs": []
    },
    {
      "cell_type": "code",
      "metadata": {
        "id": "KlOBvMyheVmb",
        "colab_type": "code",
        "colab": {}
      },
      "source": [
        "path"
      ],
      "execution_count": 0,
      "outputs": []
    },
    {
      "cell_type": "code",
      "metadata": {
        "id": "Hj2G5i2peYJp",
        "colab_type": "code",
        "colab": {}
      },
      "source": [
        "os.listdir(path+'/WISDM_ar_v1.1')"
      ],
      "execution_count": 0,
      "outputs": []
    },
    {
      "cell_type": "markdown",
      "metadata": {
        "id": "eZb9oLyPiPuX",
        "colab_type": "text"
      },
      "source": [
        "# Library Imports"
      ]
    },
    {
      "cell_type": "code",
      "metadata": {
        "id": "VHVqyPUSiQ9n",
        "colab_type": "code",
        "colab": {}
      },
      "source": [
        "import tensorflow as tf\n",
        "from tensorflow.keras import Sequential\n",
        "from tensorflow.keras.layers import Flatten, Dense, Dropout, BatchNormalization\n",
        "from tensorflow.keras.layers import Conv2D, MaxPool2D\n",
        "from tensorflow.keras.optimizers import Adam\n",
        "print(tf.__version__)"
      ],
      "execution_count": 0,
      "outputs": []
    },
    {
      "cell_type": "code",
      "metadata": {
        "id": "udNmyJLaiVTK",
        "colab_type": "code",
        "colab": {}
      },
      "source": [
        "import pandas as pd\n",
        "import numpy as np\n",
        "import matplotlib.pyplot as plt\n",
        "from sklearn.model_selection import train_test_split\n",
        "from sklearn.preprocessing import StandardScaler, LabelEncoder"
      ],
      "execution_count": 0,
      "outputs": []
    },
    {
      "cell_type": "code",
      "metadata": {
        "id": "C-GH8AG4yuHK",
        "colab_type": "code",
        "colab": {}
      },
      "source": [
        "!pip install mlxtend==0.17.0"
      ],
      "execution_count": 0,
      "outputs": []
    },
    {
      "cell_type": "markdown",
      "metadata": {
        "id": "98DvTXG7iwe_",
        "colab_type": "text"
      },
      "source": [
        "# Data preprocessing"
      ]
    },
    {
      "cell_type": "markdown",
      "metadata": {
        "id": "bzGul5wTjHD_",
        "colab_type": "text"
      },
      "source": [
        "## Trying to load data using pandas"
      ]
    },
    {
      "cell_type": "code",
      "metadata": {
        "id": "4LFu6OcQiZwh",
        "colab_type": "code",
        "colab": {}
      },
      "source": [
        "pd.read_csv(path + '/WISDM_ar_v1.1/WISDM_ar_v1.1_raw.txt')"
      ],
      "execution_count": 0,
      "outputs": []
    },
    {
      "cell_type": "markdown",
      "metadata": {
        "id": "_6M8tDxXjLYw",
        "colab_type": "text"
      },
      "source": [
        "## Loading data line by line into a processed List, ignoring errors"
      ]
    },
    {
      "cell_type": "code",
      "metadata": {
        "id": "gG2htGMMig7s",
        "colab_type": "code",
        "colab": {}
      },
      "source": [
        "file = open(path + '/WISDM_ar_v1.1/WISDM_ar_v1.1_raw.txt')\n",
        "lines = file.readlines()\n",
        "\n",
        "processedList = []\n",
        "\n",
        "for i, line in enumerate(lines):\n",
        "    try:\n",
        "        line = line.split(',')\n",
        "        last = line[5].split(';')[0]\n",
        "        last = last.strip()\n",
        "        if last == '':\n",
        "            break;\n",
        "        temp = [line[0], line[1], line[2], line[3], line[4], last]\n",
        "        processedList.append(temp)\n",
        "    except:\n",
        "        print('Error at line number: ', i)"
      ],
      "execution_count": 0,
      "outputs": []
    },
    {
      "cell_type": "markdown",
      "metadata": {
        "id": "ypBQissJjQ5O",
        "colab_type": "text"
      },
      "source": [
        "## Taking a peek at the processed List"
      ]
    },
    {
      "cell_type": "code",
      "metadata": {
        "id": "d2EmcE85i3In",
        "colab_type": "code",
        "colab": {}
      },
      "source": [
        "processedList"
      ],
      "execution_count": 0,
      "outputs": []
    },
    {
      "cell_type": "markdown",
      "metadata": {
        "id": "rEznJyRrjfm3",
        "colab_type": "text"
      },
      "source": [
        "## Loading the Data into a Pandas DataFrame"
      ]
    },
    {
      "cell_type": "markdown",
      "metadata": {
        "id": "NZWZk6eujjl3",
        "colab_type": "text"
      },
      "source": [
        "### Defining the coloumns"
      ]
    },
    {
      "cell_type": "code",
      "metadata": {
        "id": "Uy01L25fi_S4",
        "colab_type": "code",
        "colab": {}
      },
      "source": [
        "columns = ['user', 'activity', 'time', 'x', 'y', 'z']"
      ],
      "execution_count": 0,
      "outputs": []
    },
    {
      "cell_type": "markdown",
      "metadata": {
        "id": "71mM0mFsjnUn",
        "colab_type": "text"
      },
      "source": [
        "### Pd dataFrame"
      ]
    },
    {
      "cell_type": "code",
      "metadata": {
        "id": "C2f1OeJojigy",
        "colab_type": "code",
        "colab": {}
      },
      "source": [
        "data = pd.DataFrame(data = processedList, columns = columns)\n",
        "data.head()"
      ],
      "execution_count": 0,
      "outputs": []
    },
    {
      "cell_type": "code",
      "metadata": {
        "id": "NMN5iYFbjpaA",
        "colab_type": "code",
        "colab": {}
      },
      "source": [
        "data.shape"
      ],
      "execution_count": 0,
      "outputs": []
    },
    {
      "cell_type": "code",
      "metadata": {
        "id": "WcD1GWr7jtH4",
        "colab_type": "code",
        "colab": {}
      },
      "source": [
        "data.info()"
      ],
      "execution_count": 0,
      "outputs": []
    },
    {
      "cell_type": "markdown",
      "metadata": {
        "id": "rlwgcnfEj8-I",
        "colab_type": "text"
      },
      "source": [
        "### checking if there is any null data point"
      ]
    },
    {
      "cell_type": "code",
      "metadata": {
        "id": "23DlsLexj5NV",
        "colab_type": "code",
        "colab": {}
      },
      "source": [
        "data.isnull().sum()"
      ],
      "execution_count": 0,
      "outputs": []
    },
    {
      "cell_type": "markdown",
      "metadata": {
        "id": "M-QqSieokCBm",
        "colab_type": "text"
      },
      "source": [
        "### Counting class instance entries"
      ]
    },
    {
      "cell_type": "code",
      "metadata": {
        "id": "bPMD1yETj_Mi",
        "colab_type": "code",
        "colab": {}
      },
      "source": [
        "data['activity'].value_counts()"
      ],
      "execution_count": 0,
      "outputs": []
    },
    {
      "cell_type": "markdown",
      "metadata": {
        "id": "5cMOcQVnkMyo",
        "colab_type": "text"
      },
      "source": [
        "## Balancing the Data"
      ]
    },
    {
      "cell_type": "code",
      "metadata": {
        "id": "l_dT8jA9kGY5",
        "colab_type": "code",
        "colab": {}
      },
      "source": [
        "data['x'] = data['x'].astype('float')\n",
        "data['y'] = data['y'].astype('float')\n",
        "data['z'] = data['z'].astype('float')"
      ],
      "execution_count": 0,
      "outputs": []
    },
    {
      "cell_type": "code",
      "metadata": {
        "id": "NnWDfDQ1kPnh",
        "colab_type": "code",
        "colab": {}
      },
      "source": [
        "data.info()"
      ],
      "execution_count": 0,
      "outputs": []
    },
    {
      "cell_type": "markdown",
      "metadata": {
        "id": "UkKsu9PplDAf",
        "colab_type": "text"
      },
      "source": [
        "### No of Seconds to Plot the Data"
      ]
    },
    {
      "cell_type": "code",
      "metadata": {
        "id": "sMXAtciUkReR",
        "colab_type": "code",
        "colab": {}
      },
      "source": [
        "Fs = 20"
      ],
      "execution_count": 0,
      "outputs": []
    },
    {
      "cell_type": "markdown",
      "metadata": {
        "id": "-FYmOAy4lIZB",
        "colab_type": "text"
      },
      "source": [
        "### Getting a list of the activities"
      ]
    },
    {
      "cell_type": "code",
      "metadata": {
        "id": "eEP1K-kwkWfK",
        "colab_type": "code",
        "colab": {}
      },
      "source": [
        "activities = data['activity'].value_counts().index"
      ],
      "execution_count": 0,
      "outputs": []
    },
    {
      "cell_type": "code",
      "metadata": {
        "id": "22BMUXLukYpD",
        "colab_type": "code",
        "colab": {}
      },
      "source": [
        "activities"
      ],
      "execution_count": 0,
      "outputs": []
    },
    {
      "cell_type": "markdown",
      "metadata": {
        "id": "iDOZg9IPlLDf",
        "colab_type": "text"
      },
      "source": [
        "### Plotting the activities"
      ]
    },
    {
      "cell_type": "code",
      "metadata": {
        "id": "cwuZMccxkbCx",
        "colab_type": "code",
        "colab": {}
      },
      "source": [
        "def plot_activity(activity, data):\n",
        "    fig, (ax0, ax1, ax2) = plt.subplots(nrows=3, figsize=(15, 7), sharex=True)\n",
        "    plot_axis(ax0, data['time'], data['x'], 'X-Axis')\n",
        "    plot_axis(ax1, data['time'], data['y'], 'Y-Axis')\n",
        "    plot_axis(ax2, data['time'], data['z'], 'Z-Axis')\n",
        "    plt.subplots_adjust(hspace=0.2)\n",
        "    fig.suptitle(activity)\n",
        "    plt.subplots_adjust(top=0.90)\n",
        "    plt.show()\n",
        "\n",
        "def plot_axis(ax, x, y, title):\n",
        "    ax.plot(x, y, 'g')\n",
        "    ax.set_title(title)\n",
        "    ax.xaxis.set_visible(False)\n",
        "    ax.set_ylim([min(y) - np.std(y), max(y) + np.std(y)])\n",
        "    ax.set_xlim([min(x), max(x)])\n",
        "    ax.grid(True)\n",
        "\n",
        "for activity in activities:\n",
        "    data_for_plot = data[(data['activity'] == activity)][:Fs*10]\n",
        "    plot_activity(activity, data_for_plot)"
      ],
      "execution_count": 0,
      "outputs": []
    },
    {
      "cell_type": "markdown",
      "metadata": {
        "id": "pKO44HkdlOag",
        "colab_type": "text"
      },
      "source": [
        "### Dropping the user and time axes since we don't need them"
      ]
    },
    {
      "cell_type": "code",
      "metadata": {
        "id": "D6HSWEA7khoc",
        "colab_type": "code",
        "colab": {}
      },
      "source": [
        "df = data.drop(['user', 'time'], axis = 1).copy()\n",
        "df.head()"
      ],
      "execution_count": 0,
      "outputs": []
    },
    {
      "cell_type": "markdown",
      "metadata": {
        "id": "JzFr7qBGlTew",
        "colab_type": "text"
      },
      "source": [
        "### Lets count the activity values again"
      ]
    },
    {
      "cell_type": "code",
      "metadata": {
        "id": "MVEnUbGykwR_",
        "colab_type": "code",
        "colab": {}
      },
      "source": [
        "df['activity'].value_counts()"
      ],
      "execution_count": 0,
      "outputs": []
    },
    {
      "cell_type": "markdown",
      "metadata": {
        "id": "JdUS9b0dlWsH",
        "colab_type": "text"
      },
      "source": [
        "### Balancing out taking the minimum number of samples = 3555"
      ]
    },
    {
      "cell_type": "code",
      "metadata": {
        "id": "cau4J_8Vk0Jc",
        "colab_type": "code",
        "colab": {}
      },
      "source": [
        "Walking = df[df['activity']=='Walking'].head(3555).copy()\n",
        "Jogging = df[df['activity']=='Jogging'].head(3555).copy()\n",
        "Upstairs = df[df['activity']=='Upstairs'].head(3555).copy()\n",
        "Downstairs = df[df['activity']=='Downstairs'].head(3555).copy()\n",
        "Sitting = df[df['activity']=='Sitting'].head(3555).copy()\n",
        "Standing = df[df['activity']=='Standing'].copy()"
      ],
      "execution_count": 0,
      "outputs": []
    },
    {
      "cell_type": "code",
      "metadata": {
        "id": "2hxbRHzJk3MK",
        "colab_type": "code",
        "colab": {}
      },
      "source": [
        "balanced_data = pd.DataFrame()\n",
        "balanced_data = balanced_data.append([Walking, Jogging, Upstairs, Downstairs, Sitting, Standing])\n",
        "balanced_data.shape"
      ],
      "execution_count": 0,
      "outputs": []
    },
    {
      "cell_type": "code",
      "metadata": {
        "id": "hj1a9EYck5zk",
        "colab_type": "code",
        "colab": {}
      },
      "source": [
        "balanced_data['activity'].value_counts()"
      ],
      "execution_count": 0,
      "outputs": []
    },
    {
      "cell_type": "code",
      "metadata": {
        "id": "HJmJUjPik8jU",
        "colab_type": "code",
        "colab": {}
      },
      "source": [
        "balanced_data.head()"
      ],
      "execution_count": 0,
      "outputs": []
    },
    {
      "cell_type": "markdown",
      "metadata": {
        "id": "S4LAGnTDp19-",
        "colab_type": "text"
      },
      "source": [
        "## Encoding Data"
      ]
    },
    {
      "cell_type": "code",
      "metadata": {
        "id": "MkOhmk6ak-v9",
        "colab_type": "code",
        "colab": {}
      },
      "source": [
        "from sklearn.preprocessing import LabelEncoder"
      ],
      "execution_count": 0,
      "outputs": []
    },
    {
      "cell_type": "code",
      "metadata": {
        "id": "9bhH7JCqp4nw",
        "colab_type": "code",
        "colab": {}
      },
      "source": [
        "label = LabelEncoder()\n",
        "balanced_data['label'] = label.fit_transform(balanced_data['activity'])\n",
        "balanced_data.head()"
      ],
      "execution_count": 0,
      "outputs": []
    },
    {
      "cell_type": "code",
      "metadata": {
        "id": "1puXLHSbp6f3",
        "colab_type": "code",
        "colab": {}
      },
      "source": [
        "label.classes_"
      ],
      "execution_count": 0,
      "outputs": []
    },
    {
      "cell_type": "markdown",
      "metadata": {
        "id": "nxC8kYFtp_Hc",
        "colab_type": "text"
      },
      "source": [
        "## Standardized Data"
      ]
    },
    {
      "cell_type": "markdown",
      "metadata": {
        "id": "gXnymp2LqJXF",
        "colab_type": "text"
      },
      "source": [
        "### Standardizing the Data between 0~1"
      ]
    },
    {
      "cell_type": "code",
      "metadata": {
        "id": "xjMdDDojp9Oq",
        "colab_type": "code",
        "colab": {}
      },
      "source": [
        "\n",
        "X = balanced_data[['x', 'y', 'z']]\n",
        "y = balanced_data['label']"
      ],
      "execution_count": 0,
      "outputs": []
    },
    {
      "cell_type": "code",
      "metadata": {
        "id": "jZLdBepPqCC4",
        "colab_type": "code",
        "colab": {}
      },
      "source": [
        "scaler = StandardScaler()\n",
        "X = scaler.fit_transform(X)\n",
        "\n",
        "scaled_X = pd.DataFrame(data = X, columns = ['x', 'y', 'z'])\n",
        "scaled_X['label'] = y.values\n",
        "\n",
        "scaled_X"
      ],
      "execution_count": 0,
      "outputs": []
    },
    {
      "cell_type": "markdown",
      "metadata": {
        "id": "slPHiImnqRYG",
        "colab_type": "text"
      },
      "source": [
        "# Frame Preperation"
      ]
    },
    {
      "cell_type": "code",
      "metadata": {
        "id": "_loF9y4pqE1l",
        "colab_type": "code",
        "colab": {}
      },
      "source": [
        "import scipy.stats as stats"
      ],
      "execution_count": 0,
      "outputs": []
    },
    {
      "cell_type": "code",
      "metadata": {
        "id": "K18Eade6qVPB",
        "colab_type": "code",
        "colab": {}
      },
      "source": [
        "Fs = 20\n",
        "frame_size = Fs*4 # 80\n",
        "hop_size = Fs*2 # 40"
      ],
      "execution_count": 0,
      "outputs": []
    },
    {
      "cell_type": "code",
      "metadata": {
        "id": "QUOlke0-qXG7",
        "colab_type": "code",
        "colab": {}
      },
      "source": [
        "def get_frames(df, frame_size, hop_size):\n",
        "\n",
        "    N_FEATURES = 3\n",
        "\n",
        "    frames = []\n",
        "    labels = []\n",
        "    for i in range(0, len(df) - frame_size, hop_size):\n",
        "        x = df['x'].values[i: i + frame_size]\n",
        "        y = df['y'].values[i: i + frame_size]\n",
        "        z = df['z'].values[i: i + frame_size]\n",
        "        \n",
        "        # Retrieve the most often used label in this segment\n",
        "        label = stats.mode(df['label'][i: i + frame_size])[0][0]\n",
        "        frames.append([x, y, z])\n",
        "        labels.append(label)\n",
        "\n",
        "    # Bring the segments into a better shape\n",
        "    frames = np.asarray(frames).reshape(-1, frame_size, N_FEATURES)\n",
        "    labels = np.asarray(labels)\n",
        "\n",
        "    return frames, labels"
      ],
      "execution_count": 0,
      "outputs": []
    },
    {
      "cell_type": "code",
      "metadata": {
        "id": "BMBzxtpKqbHl",
        "colab_type": "code",
        "colab": {}
      },
      "source": [
        "X, y = get_frames(scaled_X, frame_size, hop_size)"
      ],
      "execution_count": 0,
      "outputs": []
    },
    {
      "cell_type": "code",
      "metadata": {
        "id": "PzjYeymRqdzp",
        "colab_type": "code",
        "colab": {}
      },
      "source": [
        "X.shape, y.shape"
      ],
      "execution_count": 0,
      "outputs": []
    },
    {
      "cell_type": "code",
      "metadata": {
        "id": "ByEbAT20qzzq",
        "colab_type": "code",
        "colab": {}
      },
      "source": [
        "(3555*6)/40"
      ],
      "execution_count": 0,
      "outputs": []
    },
    {
      "cell_type": "code",
      "metadata": {
        "id": "Hbij1eGqq0Kh",
        "colab_type": "code",
        "colab": {}
      },
      "source": [
        "X_train, X_test, y_train, y_test = train_test_split(X, y, test_size = 0.2, random_state = 0, stratify = y)"
      ],
      "execution_count": 0,
      "outputs": []
    },
    {
      "cell_type": "code",
      "metadata": {
        "id": "H37a4fQOq4mg",
        "colab_type": "code",
        "colab": {}
      },
      "source": [
        "X_train.shape, X_test.shape"
      ],
      "execution_count": 0,
      "outputs": []
    },
    {
      "cell_type": "code",
      "metadata": {
        "id": "ECAjo-HRq6WB",
        "colab_type": "code",
        "colab": {}
      },
      "source": [
        "X_train[0].shape, X_test[0].shape"
      ],
      "execution_count": 0,
      "outputs": []
    },
    {
      "cell_type": "code",
      "metadata": {
        "id": "Y_QTBV3cq8vJ",
        "colab_type": "code",
        "colab": {}
      },
      "source": [
        "X_train = X_train.reshape(425, 80, 3, 1)\n",
        "X_test = X_test.reshape(107, 80, 3, 1)"
      ],
      "execution_count": 0,
      "outputs": []
    },
    {
      "cell_type": "code",
      "metadata": {
        "id": "LLip7zV1rkDk",
        "colab_type": "code",
        "colab": {}
      },
      "source": [
        "X_train[0].shape, X_test[0].shape"
      ],
      "execution_count": 0,
      "outputs": []
    },
    {
      "cell_type": "markdown",
      "metadata": {
        "id": "qAhuILxUroL9",
        "colab_type": "text"
      },
      "source": [
        "# 2D CNN Model"
      ]
    },
    {
      "cell_type": "code",
      "metadata": {
        "id": "2LUb9urXrtN6",
        "colab_type": "code",
        "colab": {}
      },
      "source": [
        "model = Sequential()\n",
        "model.add(Conv2D(16, (2, 2), activation = 'relu', input_shape = X_train[0].shape))\n",
        "model.add(Dropout(0.1))\n",
        "\n",
        "model.add(Conv2D(32, (2, 2), activation='relu'))\n",
        "model.add(Dropout(0.2))\n",
        "\n",
        "model.add(Flatten())\n",
        "\n",
        "model.add(Dense(64, activation = 'relu'))\n",
        "model.add(Dropout(0.5))\n",
        "\n",
        "model.add(Dense(6, activation='softmax'))"
      ],
      "execution_count": 0,
      "outputs": []
    },
    {
      "cell_type": "code",
      "metadata": {
        "id": "NPzgrUZWrwHQ",
        "colab_type": "code",
        "colab": {}
      },
      "source": [
        "model.compile(optimizer=Adam(learning_rate = 0.001), loss = 'sparse_categorical_crossentropy', metrics = ['accuracy'])"
      ],
      "execution_count": 0,
      "outputs": []
    },
    {
      "cell_type": "code",
      "metadata": {
        "id": "hvEbWx6Gr5Xp",
        "colab_type": "code",
        "colab": {}
      },
      "source": [
        "history = model.fit(X_train, y_train, epochs = 10, validation_data= (X_test, y_test), verbose=1)"
      ],
      "execution_count": 0,
      "outputs": []
    },
    {
      "cell_type": "code",
      "metadata": {
        "id": "o7Niw62Sr_5B",
        "colab_type": "code",
        "colab": {}
      },
      "source": [
        "def plot_learningCurve(history, epochs):\n",
        "  # Plot training & validation accuracy values\n",
        "  epoch_range = range(1, epochs+1)\n",
        "  plt.plot(epoch_range, history.history['acc'])\n",
        "  plt.plot(epoch_range, history.history['val_acc'])\n",
        "  plt.title('Model accuracy')\n",
        "  plt.ylabel('Accuracy')\n",
        "  plt.xlabel('Epoch')\n",
        "  plt.legend(['Train', 'Val'], loc='upper left')\n",
        "  plt.show()\n",
        "\n",
        "  # Plot training & validation loss values\n",
        "  plt.plot(epoch_range, history.history['loss'])\n",
        "  plt.plot(epoch_range, history.history['val_loss'])\n",
        "  plt.title('Model loss')\n",
        "  plt.ylabel('Loss')\n",
        "  plt.xlabel('Epoch')\n",
        "  plt.legend(['Train', 'Val'], loc='upper left')\n",
        "  plt.show()"
      ],
      "execution_count": 0,
      "outputs": []
    },
    {
      "cell_type": "code",
      "metadata": {
        "id": "Tw6dW6w7sFqX",
        "colab_type": "code",
        "colab": {}
      },
      "source": [
        "plot_learningCurve(history, 10)"
      ],
      "execution_count": 0,
      "outputs": []
    },
    {
      "cell_type": "markdown",
      "metadata": {
        "id": "IUHne86osTYV",
        "colab_type": "text"
      },
      "source": [
        "## Confusion Matrix"
      ]
    },
    {
      "cell_type": "code",
      "metadata": {
        "id": "bj7lXNi5sIZk",
        "colab_type": "code",
        "colab": {}
      },
      "source": [
        "from mlxtend.plotting import plot_confusion_matrix\n",
        "from sklearn.metrics import confusion_matrix"
      ],
      "execution_count": 0,
      "outputs": []
    },
    {
      "cell_type": "code",
      "metadata": {
        "id": "DmsHh8y3sfUk",
        "colab_type": "code",
        "colab": {}
      },
      "source": [
        "y_pred = model.predict_classes(X_test)"
      ],
      "execution_count": 0,
      "outputs": []
    },
    {
      "cell_type": "code",
      "metadata": {
        "id": "T-dPI-yosiUj",
        "colab_type": "code",
        "colab": {}
      },
      "source": [
        "mat = confusion_matrix(y_test, y_pred)\n",
        "plot_confusion_matrix(conf_mat=mat, class_names=label.classes_, show_normed=True, figsize=(7,7))"
      ],
      "execution_count": 0,
      "outputs": []
    }
  ]
}
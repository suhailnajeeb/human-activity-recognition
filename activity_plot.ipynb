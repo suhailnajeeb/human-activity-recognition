{
  "nbformat": 4,
  "nbformat_minor": 0,
  "metadata": {
    "colab": {
      "name": "activity_plot.ipynb",
      "provenance": [],
      "collapsed_sections": [],
      "include_colab_link": true
    },
    "kernelspec": {
      "name": "python3",
      "display_name": "Python 3"
    }
  },
  "cells": [
    {
      "cell_type": "markdown",
      "metadata": {
        "id": "view-in-github",
        "colab_type": "text"
      },
      "source": [
        "<a href=\"https://colab.research.google.com/github/suhailnajeeb/human-activity-recognition/blob/master/activity_plot.ipynb\" target=\"_parent\"><img src=\"https://colab.research.google.com/assets/colab-badge.svg\" alt=\"Open In Colab\"/></a>"
      ]
    },
    {
      "cell_type": "markdown",
      "metadata": {
        "id": "3Ff9iJnI15n8",
        "colab_type": "text"
      },
      "source": [
        "# Mounting Google Drive"
      ]
    },
    {
      "cell_type": "code",
      "metadata": {
        "id": "p29qY-wu2KIT",
        "colab_type": "code",
        "colab": {
          "base_uri": "https://localhost:8080/",
          "height": 122
        },
        "outputId": "94e7f09a-9de6-493f-ad42-f7d10e5c0f62"
      },
      "source": [
        "from google.colab import drive\n",
        "drive.mount('/content/drive')"
      ],
      "execution_count": 2,
      "outputs": [
        {
          "output_type": "stream",
          "text": [
            "Go to this URL in a browser: https://accounts.google.com/o/oauth2/auth?client_id=947318989803-6bn6qk8qdgf4n4g3pfee6491hc0brc4i.apps.googleusercontent.com&redirect_uri=urn%3Aietf%3Awg%3Aoauth%3A2.0%3Aoob&scope=email%20https%3A%2F%2Fwww.googleapis.com%2Fauth%2Fdocs.test%20https%3A%2F%2Fwww.googleapis.com%2Fauth%2Fdrive%20https%3A%2F%2Fwww.googleapis.com%2Fauth%2Fdrive.photos.readonly%20https%3A%2F%2Fwww.googleapis.com%2Fauth%2Fpeopleapi.readonly&response_type=code\n",
            "\n",
            "Enter your authorization code:\n",
            "··········\n",
            "Mounted at /content/drive\n"
          ],
          "name": "stdout"
        }
      ]
    },
    {
      "cell_type": "markdown",
      "metadata": {
        "id": "nXz-XmE42eVU",
        "colab_type": "text"
      },
      "source": [
        "# Check for the Data Files"
      ]
    },
    {
      "cell_type": "code",
      "metadata": {
        "id": "o-IHMFzt2NKL",
        "colab_type": "code",
        "colab": {
          "base_uri": "https://localhost:8080/",
          "height": 34
        },
        "outputId": "097df5c9-9c12-4c27-d2b3-299ed28610ce"
      },
      "source": [
        "import os\n",
        "os.listdir('/content/drive/My Drive/AccData')"
      ],
      "execution_count": 5,
      "outputs": [
        {
          "output_type": "execute_result",
          "data": {
            "text/plain": [
              "['test.tsv']"
            ]
          },
          "metadata": {
            "tags": []
          },
          "execution_count": 5
        }
      ]
    },
    {
      "cell_type": "markdown",
      "metadata": {
        "id": "HUwC2Wwb2gpk",
        "colab_type": "text"
      },
      "source": [
        "# Set File Path"
      ]
    },
    {
      "cell_type": "code",
      "metadata": {
        "id": "NJsBfXD32iHc",
        "colab_type": "code",
        "colab": {}
      },
      "source": [
        "filepath = '/content/drive/My Drive/AccData/test.tsv'"
      ],
      "execution_count": 0,
      "outputs": []
    },
    {
      "cell_type": "markdown",
      "metadata": {
        "id": "AsG9rTj41hMc",
        "colab_type": "text"
      },
      "source": [
        "# Load TSV File"
      ]
    },
    {
      "cell_type": "code",
      "metadata": {
        "id": "2w_yxzoE1gWk",
        "colab_type": "code",
        "colab": {
          "base_uri": "https://localhost:8080/",
          "height": 204
        },
        "outputId": "1213cb32-2318-4ba9-e443-339100f3b9ea"
      },
      "source": [
        "import pandas as pd\n",
        "\n",
        "columns = ['sample', 'time', 'x', 'y', 'z', 'instance']\n",
        "data = pd.read_csv(filepath, sep = '\\t', names = columns)\n",
        "data.head()"
      ],
      "execution_count": 8,
      "outputs": [
        {
          "output_type": "execute_result",
          "data": {
            "text/html": [
              "<div>\n",
              "<style scoped>\n",
              "    .dataframe tbody tr th:only-of-type {\n",
              "        vertical-align: middle;\n",
              "    }\n",
              "\n",
              "    .dataframe tbody tr th {\n",
              "        vertical-align: top;\n",
              "    }\n",
              "\n",
              "    .dataframe thead th {\n",
              "        text-align: right;\n",
              "    }\n",
              "</style>\n",
              "<table border=\"1\" class=\"dataframe\">\n",
              "  <thead>\n",
              "    <tr style=\"text-align: right;\">\n",
              "      <th></th>\n",
              "      <th>sample</th>\n",
              "      <th>time</th>\n",
              "      <th>x</th>\n",
              "      <th>y</th>\n",
              "      <th>z</th>\n",
              "      <th>instance</th>\n",
              "    </tr>\n",
              "  </thead>\n",
              "  <tbody>\n",
              "    <tr>\n",
              "      <th>0</th>\n",
              "      <td>1</td>\n",
              "      <td>1570971882396</td>\n",
              "      <td>-0.696</td>\n",
              "      <td>-0.084</td>\n",
              "      <td>9.899</td>\n",
              "      <td>test</td>\n",
              "    </tr>\n",
              "    <tr>\n",
              "      <th>1</th>\n",
              "      <td>2</td>\n",
              "      <td>1570971882596</td>\n",
              "      <td>-0.699</td>\n",
              "      <td>-0.083</td>\n",
              "      <td>9.890</td>\n",
              "      <td>test</td>\n",
              "    </tr>\n",
              "    <tr>\n",
              "      <th>2</th>\n",
              "      <td>3</td>\n",
              "      <td>1570971882801</td>\n",
              "      <td>-0.703</td>\n",
              "      <td>-0.079</td>\n",
              "      <td>9.901</td>\n",
              "      <td>test</td>\n",
              "    </tr>\n",
              "    <tr>\n",
              "      <th>3</th>\n",
              "      <td>4</td>\n",
              "      <td>1570971883003</td>\n",
              "      <td>-0.699</td>\n",
              "      <td>-0.082</td>\n",
              "      <td>9.894</td>\n",
              "      <td>test</td>\n",
              "    </tr>\n",
              "    <tr>\n",
              "      <th>4</th>\n",
              "      <td>5</td>\n",
              "      <td>1570971883207</td>\n",
              "      <td>-0.700</td>\n",
              "      <td>-0.084</td>\n",
              "      <td>9.903</td>\n",
              "      <td>test</td>\n",
              "    </tr>\n",
              "  </tbody>\n",
              "</table>\n",
              "</div>"
            ],
            "text/plain": [
              "   sample           time      x      y      z instance\n",
              "0       1  1570971882396 -0.696 -0.084  9.899     test\n",
              "1       2  1570971882596 -0.699 -0.083  9.890     test\n",
              "2       3  1570971882801 -0.703 -0.079  9.901     test\n",
              "3       4  1570971883003 -0.699 -0.082  9.894     test\n",
              "4       5  1570971883207 -0.700 -0.084  9.903     test"
            ]
          },
          "metadata": {
            "tags": []
          },
          "execution_count": 8
        }
      ]
    },
    {
      "cell_type": "markdown",
      "metadata": {
        "id": "-dc1vuef1jmr",
        "colab_type": "text"
      },
      "source": [
        "#Helper Functions for Plotting Activiity"
      ]
    },
    {
      "cell_type": "code",
      "metadata": {
        "id": "8lqD-7n81j5z",
        "colab_type": "code",
        "colab": {}
      },
      "source": [
        "import matplotlib.pyplot as plt\n",
        "import numpy as np\n",
        "\n",
        "def plot_activity(activity, data):\n",
        "    fig, (ax0, ax1, ax2) = plt.subplots(nrows=3, figsize=(15, 7), sharex=True)\n",
        "    plot_axis(ax0, data['time'], data['x'], 'X-Axis')\n",
        "    plot_axis(ax1, data['time'], data['y'], 'Y-Axis')\n",
        "    plot_axis(ax2, data['time'], data['z'], 'Z-Axis')\n",
        "    plt.subplots_adjust(hspace=0.2)\n",
        "    fig.suptitle(activity)\n",
        "    plt.subplots_adjust(top=0.90)\n",
        "    plt.show()\n",
        "\n",
        "def plot_axis(ax, x, y, title):\n",
        "    ax.plot(x, y, 'g')\n",
        "    ax.set_title(title)\n",
        "    ax.xaxis.set_visible(False)\n",
        "    ax.set_ylim([min(y) - np.std(y), max(y) + np.std(y)])\n",
        "    ax.set_xlim([min(x), max(x)])\n",
        "    ax.grid(True)"
      ],
      "execution_count": 0,
      "outputs": []
    },
    {
      "cell_type": "markdown",
      "metadata": {
        "id": "QQjl6-fa1sRM",
        "colab_type": "text"
      },
      "source": [
        "# Plot Activity"
      ]
    },
    {
      "cell_type": "code",
      "metadata": {
        "id": "6FAwCKIA1taS",
        "colab_type": "code",
        "colab": {
          "base_uri": "https://localhost:8080/",
          "height": 465
        },
        "outputId": "874780ba-0e42-4491-84d6-fe5f9cda42d1"
      },
      "source": [
        "plot_activity('jaywalking', data)"
      ],
      "execution_count": 13,
      "outputs": [
        {
          "output_type": "display_data",
          "data": {
            "image/png": "[encoded data removed]",
            "text/plain": [
              "<Figure size 1080x504 with 3 Axes>"
            ]
          },
          "metadata": {
            "tags": []
          }
        }
      ]
    }
  ]
}